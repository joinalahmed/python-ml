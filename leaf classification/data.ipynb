{
 "cells": [
  {
   "cell_type": "code",
   "execution_count": 1,
   "metadata": {
    "collapsed": false
   },
   "outputs": [],
   "source": [
    "# Read files from zip to csv and get labels\n",
    "import pandas as pd\n",
    "import zipfile\n",
    "from sklearn.preprocessing import LabelEncoder\n",
    "\n",
    "train = pd.read_csv('./leaf/train.csv')\n",
    "\n",
    "test = pd.read_csv('./leaf/test.csv')\n",
    "\n",
    "\n",
    "def labels_ids(train):\n",
    "    label_map = dict(zip(train['id'], train['species']))\n",
    "    classes = set(train['species'])\n",
    "    return label_map, classes\n",
    "\n",
    "label_map, classes = labels_ids(train)"
   ]
  },
  {
   "cell_type": "code",
   "execution_count": 11,
   "metadata": {
    "collapsed": false
   },
   "outputs": [],
   "source": [
    "## preserve aspect ratio whilst resizing\n",
    "#http://stackoverflow.com/questions/9103257/resize-image-maintaining-aspect-ratio-and-making-portrait-and-landscape-images-e\n",
    "from PIL import Image, ImageChops, ImageOps\n",
    "from os import path, makedirs, scandir, system\n",
    "\n",
    "\n",
    "# resize image and maintain asdpect ratio\n",
    "def makeThumb(f_in, size=(96,96), pad=True):\n",
    "    \n",
    "    image = Image.open(f_in)\n",
    "    image.thumbnail(size, Image.ANTIALIAS)\n",
    "    \n",
    "    \n",
    "    #TODO: change this to add blank row\n",
    "    if image.size[1]%2 != 0:\n",
    "        image = image.crop((0,0, image.size[0], image.size[1]-1))\n",
    "    image_size = image.size\n",
    "    if pad:\n",
    "        thumb = image.crop( (0, 0, size[0], size[1]) )\n",
    "\n",
    "        offset_x = max( (size[0] - image_size[0]) // 2, 0 )\n",
    "        offset_y = max( (size[1] - image_size[1]) // 2, 0 )\n",
    "\n",
    "        thumb = ImageChops.offset(thumb, offset_x, offset_y)\n",
    "\n",
    "    else:\n",
    "        thumb = ImageOps.fit(image, size, Image.ANTIALIAS, (0.5, 0.5))\n",
    "    return thumb\n",
    "\n",
    "from matplotlib import pyplot as plt\n",
    "from IPython import display\n",
    "\n",
    "leaf_imgs = dict()\n",
    "\n",
    "# Need to also save them depending on the right class\n",
    "    \n",
    "\n",
    "name_list = [entry.name for entry in scandir('./leaf/images') if entry.is_file()]\n",
    "\n",
    "# system('rm -rf train')\n",
    "# system('rm -rf valid')\n",
    "\n",
    "from collections import Counter\n",
    "count = Counter()\n",
    "for i,f_in in enumerate(name_list[1:]):\n",
    "    leaf_imgs[i] = makeThumb('./leaf/images/'+f_in)\n",
    "    iden = int(f_in.split('.')[0])\n",
    "    if iden in label_map.keys():\n",
    "\n",
    "        label = label_map[iden]\n",
    "        if count[label]<2: \n",
    "            directory = \"./leaf/valid/\"+label\n",
    "            count[label] += 1\n",
    "        else:\n",
    "            directory = \"./leaf/train/\"+label\n",
    "\n",
    "    else:\n",
    "        directory = './leaf/test_imgs'\n",
    "    if not path.exists(directory):\n",
    "        makedirs(directory)\n",
    "    leaf_imgs[i].save(directory+'/'+f_in,'JPEG')"
   ]
  },
  {
   "cell_type": "code",
   "execution_count": 12,
   "metadata": {
    "collapsed": false,
    "scrolled": true
   },
   "outputs": [
    {
     "name": "stdout",
     "output_type": "stream",
     "text": [
      "Found 791 images belonging to 99 classes.\n",
      "Found 198 images belonging to 99 classes.\n"
     ]
    }
   ],
   "source": [
    "## Augment data_set Using Keras\n",
    "from keras.preprocessing.image import ImageDataGenerator, array_to_img, img_to_array, load_img\n",
    "\n",
    "datagen = ImageDataGenerator(\n",
    "        rotation_range=20,\n",
    "        width_shift_range=0.1,\n",
    "        height_shift_range=0.1,\n",
    "        zoom_range=0.2,\n",
    "        horizontal_flip=True,\n",
    "        fill_mode='nearest')\n",
    "\n",
    "# the .flow() command below generates batches of randomly transformed images\n",
    "# and saves the results to the `preview/` directory\n",
    "\n",
    "if not path.exists(\"./leaf/aug_imgs\"):\n",
    "            makedirs(\"./leaf/aug_imgs\")\n",
    "\n",
    "train_generator = datagen.flow_from_directory(\n",
    "        directory = './leaf/train',  # this is the target directory\n",
    "        batch_size= 32,\n",
    "        target_size = (96,96),\n",
    "        class_mode='categorical',\n",
    "        save_to_dir = './leaf/aug_imgs',\n",
    "        color_mode ='grayscale'\n",
    "        )  \n",
    "\n",
    "\n",
    "valid_generator = datagen.flow_from_directory(\n",
    "        directory = './leaf/valid',  # this is the target directory\n",
    "        batch_size= 32,\n",
    "        target_size = (96,96),\n",
    "        class_mode='categorical',\n",
    "        save_to_dir = './leaf/aug_imgs',\n",
    "        color_mode ='grayscale'\n",
    "        )   \n",
    "\n"
   ]
  },
  {
   "cell_type": "code",
   "execution_count": 14,
   "metadata": {
    "collapsed": false
   },
   "outputs": [],
   "source": [
    "# Create the Keras model\n",
    "\n",
    "from keras.models import Sequential\n",
    "from keras.layers import Convolution2D, MaxPooling2D\n",
    "from keras.layers import Activation, Dropout, Flatten, Dense\n",
    "\n",
    "model = Sequential()\n",
    "model.add(Convolution2D(nb_filter=32, nb_row=3, nb_col=3, \n",
    "                        input_shape=(96, 96, 1), dim_ordering=\"tf\"))\n",
    "\n",
    "model.add(Activation('relu'))\n",
    "model.add(MaxPooling2D(pool_size=(2, 2)))\n",
    "\n",
    "# layter 1\n",
    "\n",
    "model.add(Convolution2D(32, 6, 6))\n",
    "model.add(Activation('relu'))\n",
    "model.add(MaxPooling2D(pool_size=(2, 2)))\n",
    "\n",
    "\n",
    "# layter 2\n",
    "\n",
    "model.add(Convolution2D(32, 6, 6))\n",
    "model.add(Activation('relu'))\n",
    "model.add(MaxPooling2D(pool_size=(2, 2)))\n",
    "\n",
    "\n",
    "# layter 3\n",
    "\n",
    "model.add(Convolution2D(64, 3, 3))\n",
    "model.add(Activation('relu'))\n",
    "model.add(MaxPooling2D(pool_size=(4, 4)))\n",
    "\n",
    "\n",
    "model.add(Flatten())  # this converts our 3D feature maps to 1D feature vectors\n",
    "model.add(Dense(64))\n",
    "model.add(Activation('relu'))\n",
    "model.add(Dropout(0.1))\n",
    "model.add(Dense(99))\n",
    "model.add(Activation('sigmoid'))\n",
    "\n",
    "\n",
    "model.compile(optimizer='rmsprop',\n",
    "              loss='categorical_crossentropy',\n",
    "              metrics=['accuracy'])"
   ]
  },
  {
   "cell_type": "code",
   "execution_count": null,
   "metadata": {
    "collapsed": false,
    "scrolled": false
   },
   "outputs": [
    {
     "name": "stdout",
     "output_type": "stream",
     "text": [
      "Epoch 1/10\n",
      " 9972/10000 [============================>.] - ETA: 0s - loss: 3.7237 - acc: 0.0833"
     ]
    },
    {
     "name": "stderr",
     "output_type": "stream",
     "text": [
      "/Library/Frameworks/Python.framework/Versions/3.5/lib/python3.5/site-packages/keras/engine/training.py:1470: UserWarning: Epoch comprised more than `samples_per_epoch` samples, which might affect learning results. Set `samples_per_epoch` correctly to avoid this warning.\n",
      "  warnings.warn('Epoch comprised more than '\n"
     ]
    },
    {
     "name": "stdout",
     "output_type": "stream",
     "text": [
      "10004/10000 [==============================] - 349s - loss: 3.7205 - acc: 0.0841 - val_loss: 2.7890 - val_acc: 0.1779\n",
      "Epoch 2/10\n",
      "10027/10000 [==============================] - 279s - loss: 2.5903 - acc: 0.2285 - val_loss: 2.2473 - val_acc: 0.2730\n",
      "Epoch 3/10\n",
      " 1966/10000 [====>.........................] - ETA: 218s - loss: 2.3290 - acc: 0.2711"
     ]
    }
   ],
   "source": [
    "model.fit_generator(\n",
    "        train_generator,\n",
    "        samples_per_epoch=10000,\n",
    "        nb_epoch=10,\n",
    "        validation_data=valid_generator,\n",
    "        nb_val_samples=32*10)\n",
    "\n",
    "model.save_weights('first_try.h5')"
   ]
  },
  {
   "cell_type": "code",
   "execution_count": null,
   "metadata": {
    "collapsed": true
   },
   "outputs": [],
   "source": []
  }
 ],
 "metadata": {
  "kernelspec": {
   "display_name": "Python 3",
   "language": "python",
   "name": "python3"
  },
  "language_info": {
   "codemirror_mode": {
    "name": "ipython",
    "version": 3
   },
   "file_extension": ".py",
   "mimetype": "text/x-python",
   "name": "python",
   "nbconvert_exporter": "python",
   "pygments_lexer": "ipython3",
   "version": "3.5.2"
  }
 },
 "nbformat": 4,
 "nbformat_minor": 1
}
